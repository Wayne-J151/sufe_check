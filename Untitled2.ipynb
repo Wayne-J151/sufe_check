{
  "nbformat": 4,
  "nbformat_minor": 0,
  "metadata": {
    "colab": {
      "name": "Untitled2.ipynb",
      "provenance": [],
      "collapsed_sections": [],
      "authorship_tag": "ABX9TyMxp7LlWV2mnjNf+52sgDiY",
      "include_colab_link": true
    },
    "kernelspec": {
      "name": "python3",
      "display_name": "Python 3"
    }
  },
  "cells": [
    {
      "cell_type": "markdown",
      "metadata": {
        "id": "view-in-github",
        "colab_type": "text"
      },
      "source": [
        "<a href=\"https://colab.research.google.com/github/Wayne-J151/sufe_check/blob/master/Untitled2.ipynb\" target=\"_parent\"><img src=\"https://colab.research.google.com/assets/colab-badge.svg\" alt=\"Open In Colab\"/></a>"
      ]
    },
    {
      "cell_type": "code",
      "metadata": {
        "id": "tYcLSTLyj81Q"
      },
      "source": [
        "import numpy as np\n",
        "from scipy.stats import norm"
      ],
      "execution_count": 1,
      "outputs": []
    },
    {
      "cell_type": "code",
      "metadata": {
        "id": "NXwBz8SRXc-L"
      },
      "source": [
        "def generateData(k,miu,sigma,dataNum):\n",
        "  k = np.array(k)\n",
        "  n_s = k * dataNum\n",
        "  array = np.array([])\n",
        "  for i in range(len(n_s)):\n",
        "    print(i)\n",
        "    array = np.hstack((array, np.random.normal( miu[i] , sigma[i] , int(n_s[i])) ))\n",
        "  return array\n",
        "\n",
        "def em(dataArray,k,mu,sigma,step = 10):\n",
        "    n = len(k)\n",
        "    dataNum = dataArray.size\n",
        "    gamaArray = np.zeros((n,dataNum))\n",
        "    for s in range(step):\n",
        "        for i in range(n):\n",
        "            for j in range(dataNum):\n",
        "                Sum = sum([k[t]*norm.pdf(dataArray[j],mu[t],sigma[t]) for t in range(n)])\n",
        "                gamaArray[i][j] = k[i]*norm.pdf(dataArray[j],mu[i],sigma[i])/float(Sum)\n",
        "        for i in range(n):\n",
        "            mu[i] = np.sum(gamaArray[i]*dataArray)/np.sum(gamaArray[i])\n",
        "        for i in range(n):\n",
        "            sigma[i] = np.sqrt(np.sum(gamaArray[i]*(dataArray - mu[i])**2)/np.sum(gamaArray[i]))\n",
        "        for i in range(n):\n",
        "            k[i] = np.sum(gamaArray[i])/dataNum\n",
        "    return [k,mu,sigma]"
      ],
      "execution_count": null,
      "outputs": []
    },
    {
      "cell_type": "code",
      "metadata": {
        "colab": {
          "base_uri": "https://localhost:8080/"
        },
        "id": "D9oFIu_7bWGA",
        "outputId": "1e9d2a52-cebe-465e-a557-9a0e1b808800"
      },
      "source": [
        "\n",
        "# 参数的准确值\n",
        "k = [0.3, 0.4, 0.3]\n",
        "mu = [2, 4, 3]\n",
        "sigma = [1,1,4]\n",
        "# 样本数\n",
        "dataNum = 5000\n",
        "# 产生数据\n",
        "dataArray = generateData(k,mu,sigma,dataNum)\n",
        "# 参数的初始值\n",
        "# 注意em算法对于参数的初始值是十分敏感的\n",
        "k0 = [0.3,0.3,0.4]\n",
        "mu0 = [1,2,2]\n",
        "sigma0 = [1,1,1]\n",
        "step = 3\n",
        "# 使用em算法估计参数\n",
        "k1,mu1,sigma1 = em(dataArray,k0,mu0,sigma0,step)\n",
        "# 输出参数的值\n",
        "print(\"参数实际值:\")\n",
        "print(\"k:\",k)\n",
        "print(\"mu:\",mu)\n",
        "print(\"sigma:\",sigma)\n",
        "print(\"参数估计值:\")\n",
        "print(\"k1:\",k1)\n",
        "print(\"mu1:\",mu1)\n",
        "print(\"sigma1:\",sigma1)"
      ],
      "execution_count": null,
      "outputs": [
        {
          "output_type": "stream",
          "text": [
            "0\n",
            "1\n",
            "2\n",
            "参数实际值:\n",
            "k: [0.3, 0.4, 0.3]\n",
            "mu: [2, 4, 3]\n",
            "sigma: [1, 1, 4]\n",
            "参数估计值:\n",
            "k1: [0.1539861494770765, 0.36257736450982436, 0.4834364860130991]\n",
            "mu1: [0.6884991954951686, 3.5691943903214702, 3.569194390321472]\n",
            "sigma1: [3.0345005580322963, 2.110521987466482, 2.110521987466484]\n"
          ],
          "name": "stdout"
        }
      ]
    },
    {
      "cell_type": "code",
      "metadata": {
        "id": "9XK9WSynmIWE"
      },
      "source": [
        ""
      ],
      "execution_count": null,
      "outputs": []
    }
  ]
}